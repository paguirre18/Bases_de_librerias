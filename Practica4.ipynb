{
 "cells": [
  {
   "cell_type": "markdown",
   "id": "70b0fdbd",
   "metadata": {},
   "source": [
    "Pablo Alejandro Aguirre Higuera\n",
    "\n",
    "Matrícula: 263845\n",
    "\n",
    "**Práctica #4. Manipulación de matrices**\n",
    "\n",
    "22/08/2025"
   ]
  },
  {
   "cell_type": "markdown",
   "id": "1a065703",
   "metadata": {},
   "source": [
    "Creación de matrices"
   ]
  },
  {
   "cell_type": "code",
   "execution_count": 1,
   "id": "1b57b065",
   "metadata": {},
   "outputs": [
    {
     "name": "stdout",
     "output_type": "stream",
     "text": [
      "Matriz A:\n",
      " [[ 9  8 10]\n",
      " [ 5  9  5]\n",
      " [ 3  6  1]] \n",
      "\n",
      "Matriz B:\n",
      " [[10  8  3]\n",
      " [ 7 10  3]\n",
      " [ 1  9  5]]\n"
     ]
    }
   ],
   "source": [
    "import numpy as np\n",
    "\n",
    "A = np.random.randint(1, 11, size=(3, 3))\n",
    "B = np.random.randint(1, 11, size=(3, 3))\n",
    "\n",
    "print(\"Matriz A:\\n\", A, \"\\n\")\n",
    "print(\"Matriz B:\\n\", B)"
   ]
  },
  {
   "cell_type": "markdown",
   "id": "94fe80d0",
   "metadata": {},
   "source": [
    "1. Suma de matrices"
   ]
  },
  {
   "cell_type": "code",
   "execution_count": 2,
   "id": "9e054446",
   "metadata": {},
   "outputs": [
    {
     "name": "stdout",
     "output_type": "stream",
     "text": [
      "[[19 16 13]\n",
      " [12 19  8]\n",
      " [ 4 15  6]]\n"
     ]
    }
   ],
   "source": [
    "print(A + B)"
   ]
  },
  {
   "cell_type": "markdown",
   "id": "d6140895",
   "metadata": {},
   "source": [
    "2. Resta de matrices"
   ]
  },
  {
   "cell_type": "code",
   "execution_count": 3,
   "id": "eaa1638b",
   "metadata": {},
   "outputs": [
    {
     "name": "stdout",
     "output_type": "stream",
     "text": [
      "[[-1  0  7]\n",
      " [-2 -1  2]\n",
      " [ 2 -3 -4]]\n"
     ]
    }
   ],
   "source": [
    "print(A - B)"
   ]
  },
  {
   "cell_type": "markdown",
   "id": "591571ac",
   "metadata": {},
   "source": [
    "3. Multiplicación de una matriz por un escalar"
   ]
  },
  {
   "cell_type": "code",
   "execution_count": 4,
   "id": "f550aae3",
   "metadata": {},
   "outputs": [
    {
     "name": "stdout",
     "output_type": "stream",
     "text": [
      "[[18 16 20]\n",
      " [10 18 10]\n",
      " [ 6 12  2]]\n"
     ]
    }
   ],
   "source": [
    "print(A * 2)"
   ]
  },
  {
   "cell_type": "markdown",
   "id": "838cc3f0",
   "metadata": {},
   "source": [
    "4. Multiplicación de matrices"
   ]
  },
  {
   "cell_type": "code",
   "execution_count": 7,
   "id": "f65fcd0f",
   "metadata": {},
   "outputs": [
    {
     "name": "stdout",
     "output_type": "stream",
     "text": [
      "[[156 242 101]\n",
      " [118 175  67]\n",
      " [ 73  93  32]] \n",
      "\n",
      "[[156 242 101]\n",
      " [118 175  67]\n",
      " [ 73  93  32]]\n"
     ]
    }
   ],
   "source": [
    "print(A @ B, \"\\n\")\n",
    "\n",
    "print(np.dot(A,B))\n",
    "\n",
    "#Ambas formas funcionan"
   ]
  }
 ],
 "metadata": {
  "kernelspec": {
   "display_name": "Python 3",
   "language": "python",
   "name": "python3"
  },
  "language_info": {
   "codemirror_mode": {
    "name": "ipython",
    "version": 3
   },
   "file_extension": ".py",
   "mimetype": "text/x-python",
   "name": "python",
   "nbconvert_exporter": "python",
   "pygments_lexer": "ipython3",
   "version": "3.12.2"
  }
 },
 "nbformat": 4,
 "nbformat_minor": 5
}
