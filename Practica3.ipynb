{
 "cells": [
  {
   "cell_type": "markdown",
   "id": "f6baafb4",
   "metadata": {},
   "source": [
    "Pablo Alejandro Aguirre Higuera\n",
    "\n",
    "Matrícula: 263845\n",
    "\n",
    "**Práctica #3. Creación de un arreglo y operaciones básicas**\n",
    "\n",
    "22/08/2025"
   ]
  },
  {
   "cell_type": "markdown",
   "id": "eb9c5f9b",
   "metadata": {},
   "source": [
    "Creación del arreglo"
   ]
  },
  {
   "cell_type": "code",
   "execution_count": 5,
   "id": "234aefdb",
   "metadata": {},
   "outputs": [
    {
     "name": "stdout",
     "output_type": "stream",
     "text": [
      "[11 15 17 18 19 25 37 38 39 42 47 52 58 60 62 78 91 96 96 98]\n"
     ]
    }
   ],
   "source": [
    "import numpy as np\n",
    "\n",
    "arr = np.random.randint(1, 101, 20)\n",
    "print(np.sort(arr))"
   ]
  },
  {
   "cell_type": "markdown",
   "id": "64829508",
   "metadata": {},
   "source": [
    "1. Valor máximo"
   ]
  },
  {
   "cell_type": "code",
   "execution_count": 6,
   "id": "8833c6e6",
   "metadata": {},
   "outputs": [
    {
     "name": "stdout",
     "output_type": "stream",
     "text": [
      "Valor máximo: 98\n"
     ]
    }
   ],
   "source": [
    "print(\"Valor máximo:\", np.max(arr))"
   ]
  },
  {
   "cell_type": "markdown",
   "id": "5efe4da6",
   "metadata": {},
   "source": [
    "2. Valor mínimo"
   ]
  },
  {
   "cell_type": "code",
   "execution_count": 7,
   "id": "9d1f7348",
   "metadata": {},
   "outputs": [
    {
     "name": "stdout",
     "output_type": "stream",
     "text": [
      "Valor mínimo: 11\n"
     ]
    }
   ],
   "source": [
    "print(\"Valor mínimo:\", np.min(arr))"
   ]
  },
  {
   "cell_type": "markdown",
   "id": "3babff3d",
   "metadata": {},
   "source": [
    "3. Media del arreglo"
   ]
  },
  {
   "cell_type": "code",
   "execution_count": 10,
   "id": "c885ee38",
   "metadata": {},
   "outputs": [
    {
     "name": "stdout",
     "output_type": "stream",
     "text": [
      "Media del arreglo: 50.0\n"
     ]
    }
   ],
   "source": [
    "print(\"Media del arreglo:\", np.round(np.mean(arr), 1))"
   ]
  },
  {
   "cell_type": "markdown",
   "id": "ad588e52",
   "metadata": {},
   "source": [
    "4. Sumar 10 a cada elemento"
   ]
  },
  {
   "cell_type": "code",
   "execution_count": 15,
   "id": "4b61fe1e",
   "metadata": {},
   "outputs": [
    {
     "name": "stdout",
     "output_type": "stream",
     "text": [
      "Arreglo original:\n",
      " [11 15 17 18 19 25 37 38 39 42 47 52 58 60 62 78 91 96 96 98]\n",
      "Elementos del arreglo más 10:\n",
      " [ 21  25  27  28  29  35  47  48  49  52  57  62  68  70  72  88 101 106\n",
      " 106 108]\n"
     ]
    }
   ],
   "source": [
    "print(\"Arreglo original:\\n\", np.sort(arr))\n",
    "\n",
    "print(\"Elementos del arreglo más 10:\\n\", np.sort(arr + 10))"
   ]
  },
  {
   "cell_type": "markdown",
   "id": "f89dd080",
   "metadata": {},
   "source": [
    "Se observa que efectivamente se ha sumado 10 a cada elemento del arreglo"
   ]
  }
 ],
 "metadata": {
  "kernelspec": {
   "display_name": "Python 3",
   "language": "python",
   "name": "python3"
  },
  "language_info": {
   "codemirror_mode": {
    "name": "ipython",
    "version": 3
   },
   "file_extension": ".py",
   "mimetype": "text/x-python",
   "name": "python",
   "nbconvert_exporter": "python",
   "pygments_lexer": "ipython3",
   "version": "3.12.2"
  }
 },
 "nbformat": 4,
 "nbformat_minor": 5
}
