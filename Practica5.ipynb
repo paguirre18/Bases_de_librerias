{
 "cells": [
  {
   "cell_type": "markdown",
   "id": "eb5a113e",
   "metadata": {},
   "source": [
    "Pablo Alejandro Aguirre Higuera\n",
    "\n",
    "Matrícula: 263845\n",
    "\n",
    "**Práctica #5. Uso de máscaras booleanas**\n",
    "\n",
    "22/08/2025"
   ]
  },
  {
   "cell_type": "markdown",
   "id": "4f9b173a",
   "metadata": {},
   "source": [
    "Creación de arreglo"
   ]
  },
  {
   "cell_type": "code",
   "execution_count": 2,
   "id": "d5e99a03",
   "metadata": {},
   "outputs": [
    {
     "name": "stdout",
     "output_type": "stream",
     "text": [
      "[ 1 10 16 19 21 21 26 29 31 43 44 45 45 48 50]\n"
     ]
    }
   ],
   "source": [
    "import numpy as np\n",
    "\n",
    "arr = np.random.randint(1, 51, 15)\n",
    "print(np.sort(arr))"
   ]
  },
  {
   "cell_type": "markdown",
   "id": "06d579a9",
   "metadata": {},
   "source": [
    "Máscara booleana"
   ]
  },
  {
   "cell_type": "code",
   "execution_count": 5,
   "id": "7e183962",
   "metadata": {},
   "outputs": [
    {
     "name": "stdout",
     "output_type": "stream",
     "text": [
      "[26 29 31 43 44 45 45 48 50]\n"
     ]
    }
   ],
   "source": [
    "mask = arr[arr > 25]\n",
    "\n",
    "print(np.sort(mask))"
   ]
  },
  {
   "cell_type": "markdown",
   "id": "40e189c9",
   "metadata": {},
   "source": [
    "Cuenta de elementos mayores a 25"
   ]
  },
  {
   "cell_type": "code",
   "execution_count": 9,
   "id": "8319894c",
   "metadata": {},
   "outputs": [
    {
     "name": "stdout",
     "output_type": "stream",
     "text": [
      "Hay 9 elementos mayores a 25\n"
     ]
    }
   ],
   "source": [
    "print(\"Hay\", len(mask), \"elementos mayores a 25\")"
   ]
  }
 ],
 "metadata": {
  "kernelspec": {
   "display_name": "Python 3",
   "language": "python",
   "name": "python3"
  },
  "language_info": {
   "codemirror_mode": {
    "name": "ipython",
    "version": 3
   },
   "file_extension": ".py",
   "mimetype": "text/x-python",
   "name": "python",
   "nbconvert_exporter": "python",
   "pygments_lexer": "ipython3",
   "version": "3.12.2"
  }
 },
 "nbformat": 4,
 "nbformat_minor": 5
}
